{
 "cells": [
  {
   "cell_type": "code",
   "execution_count": 1,
   "id": "9f54bb3a",
   "metadata": {
    "id": "9f54bb3a"
   },
   "outputs": [],
   "source": [
    "import pandas as pd\n",
    "import numpy as np\n",
    "import matplotlib.pyplot as plt\n",
    "import seaborn as sns\n",
    "import math"
   ]
  },
  {
   "cell_type": "markdown",
   "id": "4c7fd169",
   "metadata": {
    "id": "4c7fd169"
   },
   "source": [
    "# REGGRESION\n",
    "## DATA 5: WALMART DATASET"
   ]
  },
  {
   "cell_type": "code",
   "execution_count": 2,
   "id": "606f5f92",
   "metadata": {
    "id": "606f5f92",
    "scrolled": true
   },
   "outputs": [
    {
     "data": {
      "text/html": [
       "<div>\n",
       "<style scoped>\n",
       "    .dataframe tbody tr th:only-of-type {\n",
       "        vertical-align: middle;\n",
       "    }\n",
       "\n",
       "    .dataframe tbody tr th {\n",
       "        vertical-align: top;\n",
       "    }\n",
       "\n",
       "    .dataframe thead th {\n",
       "        text-align: right;\n",
       "    }\n",
       "</style>\n",
       "<table border=\"1\" class=\"dataframe\">\n",
       "  <thead>\n",
       "    <tr style=\"text-align: right;\">\n",
       "      <th></th>\n",
       "      <th>Store</th>\n",
       "      <th>Date</th>\n",
       "      <th>Weekly_Sales</th>\n",
       "      <th>Holiday_Flag</th>\n",
       "      <th>Temperature</th>\n",
       "      <th>Fuel_Price</th>\n",
       "      <th>CPI</th>\n",
       "      <th>Unemployment</th>\n",
       "    </tr>\n",
       "  </thead>\n",
       "  <tbody>\n",
       "    <tr>\n",
       "      <th>0</th>\n",
       "      <td>1</td>\n",
       "      <td>05-02-2010</td>\n",
       "      <td>1643690.90</td>\n",
       "      <td>0</td>\n",
       "      <td>42.31</td>\n",
       "      <td>2.572</td>\n",
       "      <td>211.096358</td>\n",
       "      <td>8.106</td>\n",
       "    </tr>\n",
       "    <tr>\n",
       "      <th>1</th>\n",
       "      <td>1</td>\n",
       "      <td>12-02-2010</td>\n",
       "      <td>1641957.44</td>\n",
       "      <td>1</td>\n",
       "      <td>38.51</td>\n",
       "      <td>2.548</td>\n",
       "      <td>211.242170</td>\n",
       "      <td>8.106</td>\n",
       "    </tr>\n",
       "    <tr>\n",
       "      <th>2</th>\n",
       "      <td>1</td>\n",
       "      <td>19-02-2010</td>\n",
       "      <td>1611968.17</td>\n",
       "      <td>0</td>\n",
       "      <td>39.93</td>\n",
       "      <td>2.514</td>\n",
       "      <td>211.289143</td>\n",
       "      <td>8.106</td>\n",
       "    </tr>\n",
       "    <tr>\n",
       "      <th>3</th>\n",
       "      <td>1</td>\n",
       "      <td>26-02-2010</td>\n",
       "      <td>1409727.59</td>\n",
       "      <td>0</td>\n",
       "      <td>46.63</td>\n",
       "      <td>2.561</td>\n",
       "      <td>211.319643</td>\n",
       "      <td>8.106</td>\n",
       "    </tr>\n",
       "    <tr>\n",
       "      <th>4</th>\n",
       "      <td>1</td>\n",
       "      <td>05-03-2010</td>\n",
       "      <td>1554806.68</td>\n",
       "      <td>0</td>\n",
       "      <td>46.50</td>\n",
       "      <td>2.625</td>\n",
       "      <td>211.350143</td>\n",
       "      <td>8.106</td>\n",
       "    </tr>\n",
       "    <tr>\n",
       "      <th>...</th>\n",
       "      <td>...</td>\n",
       "      <td>...</td>\n",
       "      <td>...</td>\n",
       "      <td>...</td>\n",
       "      <td>...</td>\n",
       "      <td>...</td>\n",
       "      <td>...</td>\n",
       "      <td>...</td>\n",
       "    </tr>\n",
       "    <tr>\n",
       "      <th>6430</th>\n",
       "      <td>45</td>\n",
       "      <td>28-09-2012</td>\n",
       "      <td>713173.95</td>\n",
       "      <td>0</td>\n",
       "      <td>64.88</td>\n",
       "      <td>3.997</td>\n",
       "      <td>192.013558</td>\n",
       "      <td>8.684</td>\n",
       "    </tr>\n",
       "    <tr>\n",
       "      <th>6431</th>\n",
       "      <td>45</td>\n",
       "      <td>05-10-2012</td>\n",
       "      <td>733455.07</td>\n",
       "      <td>0</td>\n",
       "      <td>64.89</td>\n",
       "      <td>3.985</td>\n",
       "      <td>192.170412</td>\n",
       "      <td>8.667</td>\n",
       "    </tr>\n",
       "    <tr>\n",
       "      <th>6432</th>\n",
       "      <td>45</td>\n",
       "      <td>12-10-2012</td>\n",
       "      <td>734464.36</td>\n",
       "      <td>0</td>\n",
       "      <td>54.47</td>\n",
       "      <td>4.000</td>\n",
       "      <td>192.327265</td>\n",
       "      <td>8.667</td>\n",
       "    </tr>\n",
       "    <tr>\n",
       "      <th>6433</th>\n",
       "      <td>45</td>\n",
       "      <td>19-10-2012</td>\n",
       "      <td>718125.53</td>\n",
       "      <td>0</td>\n",
       "      <td>56.47</td>\n",
       "      <td>3.969</td>\n",
       "      <td>192.330854</td>\n",
       "      <td>8.667</td>\n",
       "    </tr>\n",
       "    <tr>\n",
       "      <th>6434</th>\n",
       "      <td>45</td>\n",
       "      <td>26-10-2012</td>\n",
       "      <td>760281.43</td>\n",
       "      <td>0</td>\n",
       "      <td>58.85</td>\n",
       "      <td>3.882</td>\n",
       "      <td>192.308899</td>\n",
       "      <td>8.667</td>\n",
       "    </tr>\n",
       "  </tbody>\n",
       "</table>\n",
       "<p>6435 rows × 8 columns</p>\n",
       "</div>"
      ],
      "text/plain": [
       "      Store        Date  Weekly_Sales  Holiday_Flag  Temperature  Fuel_Price  \\\n",
       "0         1  05-02-2010    1643690.90             0        42.31       2.572   \n",
       "1         1  12-02-2010    1641957.44             1        38.51       2.548   \n",
       "2         1  19-02-2010    1611968.17             0        39.93       2.514   \n",
       "3         1  26-02-2010    1409727.59             0        46.63       2.561   \n",
       "4         1  05-03-2010    1554806.68             0        46.50       2.625   \n",
       "...     ...         ...           ...           ...          ...         ...   \n",
       "6430     45  28-09-2012     713173.95             0        64.88       3.997   \n",
       "6431     45  05-10-2012     733455.07             0        64.89       3.985   \n",
       "6432     45  12-10-2012     734464.36             0        54.47       4.000   \n",
       "6433     45  19-10-2012     718125.53             0        56.47       3.969   \n",
       "6434     45  26-10-2012     760281.43             0        58.85       3.882   \n",
       "\n",
       "             CPI  Unemployment  \n",
       "0     211.096358         8.106  \n",
       "1     211.242170         8.106  \n",
       "2     211.289143         8.106  \n",
       "3     211.319643         8.106  \n",
       "4     211.350143         8.106  \n",
       "...          ...           ...  \n",
       "6430  192.013558         8.684  \n",
       "6431  192.170412         8.667  \n",
       "6432  192.327265         8.667  \n",
       "6433  192.330854         8.667  \n",
       "6434  192.308899         8.667  \n",
       "\n",
       "[6435 rows x 8 columns]"
      ]
     },
     "execution_count": 2,
     "metadata": {},
     "output_type": "execute_result"
    }
   ],
   "source": [
    "df_raw = pd.read_csv('Walmart.csv')\n",
    "df = df_raw.copy()\n",
    "df_raw"
   ]
  },
  {
   "cell_type": "markdown",
   "id": "ee5a5af1",
   "metadata": {},
   "source": [
    "- Store: nomor toko \n",
    "- Date: tanggal penjualan\n",
    "- Weekly_Sales: penjualan mingguan toko\n",
    "- Holiday_Flag: banyaknya hari libur pada minggu tersebut\n",
    "- Temperature: suhu pada minggu penjualan\n",
    "- Fuel_Price: biaya bahan bakar di daerah tersebut\n",
    "- CPI: (Consumer Price Index) indeks harga konsumen yang berlaku\n",
    "- Unemployment: tingkat pengangguran yang berlaku"
   ]
  },
  {
   "cell_type": "markdown",
   "id": "18ba6ba4",
   "metadata": {
    "id": "18ba6ba4"
   },
   "source": [
    "## A. Check Missing Value"
   ]
  },
  {
   "cell_type": "code",
   "execution_count": 3,
   "id": "5312aac3",
   "metadata": {
    "colab": {
     "base_uri": "https://localhost:8080/"
    },
    "id": "5312aac3",
    "outputId": "94d0f615-11b7-43d4-c965-d531f4aa4f0a",
    "scrolled": true
   },
   "outputs": [
    {
     "name": "stdout",
     "output_type": "stream",
     "text": [
      "<class 'pandas.core.frame.DataFrame'>\n",
      "RangeIndex: 6435 entries, 0 to 6434\n",
      "Data columns (total 8 columns):\n",
      " #   Column        Non-Null Count  Dtype  \n",
      "---  ------        --------------  -----  \n",
      " 0   Store         6435 non-null   int64  \n",
      " 1   Date          6435 non-null   object \n",
      " 2   Weekly_Sales  6435 non-null   float64\n",
      " 3   Holiday_Flag  6435 non-null   int64  \n",
      " 4   Temperature   6435 non-null   float64\n",
      " 5   Fuel_Price    6435 non-null   float64\n",
      " 6   CPI           6435 non-null   float64\n",
      " 7   Unemployment  6435 non-null   float64\n",
      "dtypes: float64(5), int64(2), object(1)\n",
      "memory usage: 402.3+ KB\n"
     ]
    }
   ],
   "source": [
    "df.info()"
   ]
  },
  {
   "cell_type": "markdown",
   "id": "92f719ae",
   "metadata": {
    "id": "92f719ae"
   },
   "source": [
    "Berdasarkan df.info() terlihat bahwa dataset tidak terdapat missing value karena semua kolom tertulis 6435 non-null. "
   ]
  },
  {
   "cell_type": "code",
   "execution_count": 4,
   "id": "90020e2b",
   "metadata": {
    "colab": {
     "base_uri": "https://localhost:8080/"
    },
    "id": "90020e2b",
    "outputId": "406e853b-60e0-487d-cf48-8a8183db10cd",
    "scrolled": true
   },
   "outputs": [
    {
     "data": {
      "text/plain": [
       "Store           0\n",
       "Date            0\n",
       "Weekly_Sales    0\n",
       "Holiday_Flag    0\n",
       "Temperature     0\n",
       "Fuel_Price      0\n",
       "CPI             0\n",
       "Unemployment    0\n",
       "dtype: int64"
      ]
     },
     "execution_count": 4,
     "metadata": {},
     "output_type": "execute_result"
    }
   ],
   "source": [
    "df.isnull().sum()"
   ]
  },
  {
   "cell_type": "markdown",
   "id": "8f7a67e1",
   "metadata": {},
   "source": [
    "Menurut df.isnull().sum() diatas, terlihat bahwa dataset tidak mempunyai kolom bernilai NaN."
   ]
  },
  {
   "cell_type": "markdown",
   "id": "130689be",
   "metadata": {
    "id": "130689be"
   },
   "source": [
    "## B. Check Duplicates"
   ]
  },
  {
   "cell_type": "code",
   "execution_count": 5,
   "id": "20e577ca",
   "metadata": {
    "id": "20e577ca",
    "outputId": "d3217679-2845-4b9d-8b1c-84c7b464cd7b",
    "scrolled": true
   },
   "outputs": [
    {
     "data": {
      "text/plain": [
       "0"
      ]
     },
     "execution_count": 5,
     "metadata": {},
     "output_type": "execute_result"
    }
   ],
   "source": [
    "df.duplicated().sum()"
   ]
  },
  {
   "cell_type": "markdown",
   "id": "a819cc45",
   "metadata": {
    "id": "a819cc45"
   },
   "source": [
    "Berdasarkan df.duplicated().sum() terlihat bahwa dataset tidak mempunyai data duplikat."
   ]
  },
  {
   "cell_type": "markdown",
   "id": "69766076",
   "metadata": {
    "id": "69766076"
   },
   "source": [
    "## C. Feature Engineering"
   ]
  },
  {
   "cell_type": "code",
   "execution_count": 6,
   "id": "EELN4VZ99GRy",
   "metadata": {
    "id": "EELN4VZ99GRy",
    "scrolled": true
   },
   "outputs": [
    {
     "data": {
      "text/html": [
       "<div>\n",
       "<style scoped>\n",
       "    .dataframe tbody tr th:only-of-type {\n",
       "        vertical-align: middle;\n",
       "    }\n",
       "\n",
       "    .dataframe tbody tr th {\n",
       "        vertical-align: top;\n",
       "    }\n",
       "\n",
       "    .dataframe thead th {\n",
       "        text-align: right;\n",
       "    }\n",
       "</style>\n",
       "<table border=\"1\" class=\"dataframe\">\n",
       "  <thead>\n",
       "    <tr style=\"text-align: right;\">\n",
       "      <th></th>\n",
       "      <th>Store</th>\n",
       "      <th>Date</th>\n",
       "      <th>Weekly_Sales</th>\n",
       "      <th>Holiday_Flag</th>\n",
       "      <th>Temperature</th>\n",
       "      <th>Fuel_Price</th>\n",
       "      <th>CPI</th>\n",
       "      <th>Unemployment</th>\n",
       "      <th>Month</th>\n",
       "      <th>Year</th>\n",
       "      <th>Day_Number</th>\n",
       "      <th>Day</th>\n",
       "    </tr>\n",
       "  </thead>\n",
       "  <tbody>\n",
       "    <tr>\n",
       "      <th>0</th>\n",
       "      <td>1</td>\n",
       "      <td>2010-05-02</td>\n",
       "      <td>1643690.90</td>\n",
       "      <td>0</td>\n",
       "      <td>42.31</td>\n",
       "      <td>2.572</td>\n",
       "      <td>211.096358</td>\n",
       "      <td>8.106</td>\n",
       "      <td>5</td>\n",
       "      <td>2010</td>\n",
       "      <td>6</td>\n",
       "      <td>Sabtu</td>\n",
       "    </tr>\n",
       "    <tr>\n",
       "      <th>1</th>\n",
       "      <td>1</td>\n",
       "      <td>2010-12-02</td>\n",
       "      <td>1641957.44</td>\n",
       "      <td>1</td>\n",
       "      <td>38.51</td>\n",
       "      <td>2.548</td>\n",
       "      <td>211.242170</td>\n",
       "      <td>8.106</td>\n",
       "      <td>12</td>\n",
       "      <td>2010</td>\n",
       "      <td>3</td>\n",
       "      <td>Rabu</td>\n",
       "    </tr>\n",
       "    <tr>\n",
       "      <th>2</th>\n",
       "      <td>1</td>\n",
       "      <td>2010-02-19</td>\n",
       "      <td>1611968.17</td>\n",
       "      <td>0</td>\n",
       "      <td>39.93</td>\n",
       "      <td>2.514</td>\n",
       "      <td>211.289143</td>\n",
       "      <td>8.106</td>\n",
       "      <td>2</td>\n",
       "      <td>2010</td>\n",
       "      <td>4</td>\n",
       "      <td>Kamis</td>\n",
       "    </tr>\n",
       "    <tr>\n",
       "      <th>3</th>\n",
       "      <td>1</td>\n",
       "      <td>2010-02-26</td>\n",
       "      <td>1409727.59</td>\n",
       "      <td>0</td>\n",
       "      <td>46.63</td>\n",
       "      <td>2.561</td>\n",
       "      <td>211.319643</td>\n",
       "      <td>8.106</td>\n",
       "      <td>2</td>\n",
       "      <td>2010</td>\n",
       "      <td>4</td>\n",
       "      <td>Kamis</td>\n",
       "    </tr>\n",
       "    <tr>\n",
       "      <th>4</th>\n",
       "      <td>1</td>\n",
       "      <td>2010-05-03</td>\n",
       "      <td>1554806.68</td>\n",
       "      <td>0</td>\n",
       "      <td>46.50</td>\n",
       "      <td>2.625</td>\n",
       "      <td>211.350143</td>\n",
       "      <td>8.106</td>\n",
       "      <td>5</td>\n",
       "      <td>2010</td>\n",
       "      <td>0</td>\n",
       "      <td>Minggu</td>\n",
       "    </tr>\n",
       "    <tr>\n",
       "      <th>...</th>\n",
       "      <td>...</td>\n",
       "      <td>...</td>\n",
       "      <td>...</td>\n",
       "      <td>...</td>\n",
       "      <td>...</td>\n",
       "      <td>...</td>\n",
       "      <td>...</td>\n",
       "      <td>...</td>\n",
       "      <td>...</td>\n",
       "      <td>...</td>\n",
       "      <td>...</td>\n",
       "      <td>...</td>\n",
       "    </tr>\n",
       "    <tr>\n",
       "      <th>6430</th>\n",
       "      <td>45</td>\n",
       "      <td>2012-09-28</td>\n",
       "      <td>713173.95</td>\n",
       "      <td>0</td>\n",
       "      <td>64.88</td>\n",
       "      <td>3.997</td>\n",
       "      <td>192.013558</td>\n",
       "      <td>8.684</td>\n",
       "      <td>9</td>\n",
       "      <td>2012</td>\n",
       "      <td>4</td>\n",
       "      <td>Kamis</td>\n",
       "    </tr>\n",
       "    <tr>\n",
       "      <th>6431</th>\n",
       "      <td>45</td>\n",
       "      <td>2012-05-10</td>\n",
       "      <td>733455.07</td>\n",
       "      <td>0</td>\n",
       "      <td>64.89</td>\n",
       "      <td>3.985</td>\n",
       "      <td>192.170412</td>\n",
       "      <td>8.667</td>\n",
       "      <td>5</td>\n",
       "      <td>2012</td>\n",
       "      <td>3</td>\n",
       "      <td>Rabu</td>\n",
       "    </tr>\n",
       "    <tr>\n",
       "      <th>6432</th>\n",
       "      <td>45</td>\n",
       "      <td>2012-12-10</td>\n",
       "      <td>734464.36</td>\n",
       "      <td>0</td>\n",
       "      <td>54.47</td>\n",
       "      <td>4.000</td>\n",
       "      <td>192.327265</td>\n",
       "      <td>8.667</td>\n",
       "      <td>12</td>\n",
       "      <td>2012</td>\n",
       "      <td>0</td>\n",
       "      <td>Minggu</td>\n",
       "    </tr>\n",
       "    <tr>\n",
       "      <th>6433</th>\n",
       "      <td>45</td>\n",
       "      <td>2012-10-19</td>\n",
       "      <td>718125.53</td>\n",
       "      <td>0</td>\n",
       "      <td>56.47</td>\n",
       "      <td>3.969</td>\n",
       "      <td>192.330854</td>\n",
       "      <td>8.667</td>\n",
       "      <td>10</td>\n",
       "      <td>2012</td>\n",
       "      <td>4</td>\n",
       "      <td>Kamis</td>\n",
       "    </tr>\n",
       "    <tr>\n",
       "      <th>6434</th>\n",
       "      <td>45</td>\n",
       "      <td>2012-10-26</td>\n",
       "      <td>760281.43</td>\n",
       "      <td>0</td>\n",
       "      <td>58.85</td>\n",
       "      <td>3.882</td>\n",
       "      <td>192.308899</td>\n",
       "      <td>8.667</td>\n",
       "      <td>10</td>\n",
       "      <td>2012</td>\n",
       "      <td>4</td>\n",
       "      <td>Kamis</td>\n",
       "    </tr>\n",
       "  </tbody>\n",
       "</table>\n",
       "<p>6435 rows × 12 columns</p>\n",
       "</div>"
      ],
      "text/plain": [
       "      Store       Date  Weekly_Sales  Holiday_Flag  Temperature  Fuel_Price  \\\n",
       "0         1 2010-05-02    1643690.90             0        42.31       2.572   \n",
       "1         1 2010-12-02    1641957.44             1        38.51       2.548   \n",
       "2         1 2010-02-19    1611968.17             0        39.93       2.514   \n",
       "3         1 2010-02-26    1409727.59             0        46.63       2.561   \n",
       "4         1 2010-05-03    1554806.68             0        46.50       2.625   \n",
       "...     ...        ...           ...           ...          ...         ...   \n",
       "6430     45 2012-09-28     713173.95             0        64.88       3.997   \n",
       "6431     45 2012-05-10     733455.07             0        64.89       3.985   \n",
       "6432     45 2012-12-10     734464.36             0        54.47       4.000   \n",
       "6433     45 2012-10-19     718125.53             0        56.47       3.969   \n",
       "6434     45 2012-10-26     760281.43             0        58.85       3.882   \n",
       "\n",
       "             CPI  Unemployment  Month  Year  Day_Number     Day  \n",
       "0     211.096358         8.106      5  2010           6   Sabtu  \n",
       "1     211.242170         8.106     12  2010           3    Rabu  \n",
       "2     211.289143         8.106      2  2010           4   Kamis  \n",
       "3     211.319643         8.106      2  2010           4   Kamis  \n",
       "4     211.350143         8.106      5  2010           0  Minggu  \n",
       "...          ...           ...    ...   ...         ...     ...  \n",
       "6430  192.013558         8.684      9  2012           4   Kamis  \n",
       "6431  192.170412         8.667      5  2012           3    Rabu  \n",
       "6432  192.327265         8.667     12  2012           0  Minggu  \n",
       "6433  192.330854         8.667     10  2012           4   Kamis  \n",
       "6434  192.308899         8.667     10  2012           4   Kamis  \n",
       "\n",
       "[6435 rows x 12 columns]"
      ]
     },
     "execution_count": 6,
     "metadata": {},
     "output_type": "execute_result"
    }
   ],
   "source": [
    "df['Date'] = pd.to_datetime(df['Date'])\n",
    "df['Month'] = df['Date'].dt.month\n",
    "df['Year'] = df['Date'].dt.year\n",
    "df['Day_Number'] = df['Date'].dt.weekday\n",
    "\n",
    "#Convert days and months from numerics to categories\n",
    "days = {0:'Minggu',1:'Senin',2:'Selasa',3:'Rabu',4:'Kamis',5: 'Jumat',6:'Sabtu'}\n",
    "df['Day'] = df['Day_Number'].map(days)\n",
    "df"
   ]
  },
  {
   "cell_type": "code",
   "execution_count": 7,
   "id": "7b8f9358",
   "metadata": {
    "scrolled": true
   },
   "outputs": [
    {
     "name": "stdout",
     "output_type": "stream",
     "text": [
      "<class 'pandas.core.frame.DataFrame'>\n",
      "RangeIndex: 6435 entries, 0 to 6434\n",
      "Data columns (total 12 columns):\n",
      " #   Column        Non-Null Count  Dtype         \n",
      "---  ------        --------------  -----         \n",
      " 0   Store         6435 non-null   int64         \n",
      " 1   Date          6435 non-null   datetime64[ns]\n",
      " 2   Weekly_Sales  6435 non-null   float64       \n",
      " 3   Holiday_Flag  6435 non-null   int64         \n",
      " 4   Temperature   6435 non-null   float64       \n",
      " 5   Fuel_Price    6435 non-null   float64       \n",
      " 6   CPI           6435 non-null   float64       \n",
      " 7   Unemployment  6435 non-null   float64       \n",
      " 8   Month         6435 non-null   int64         \n",
      " 9   Year          6435 non-null   int64         \n",
      " 10  Day_Number    6435 non-null   int64         \n",
      " 11  Day           6435 non-null   object        \n",
      "dtypes: datetime64[ns](1), float64(5), int64(5), object(1)\n",
      "memory usage: 603.4+ KB\n"
     ]
    }
   ],
   "source": [
    "df.info()"
   ]
  },
  {
   "cell_type": "code",
   "execution_count": 8,
   "id": "1d7d2b5a",
   "metadata": {
    "scrolled": true
   },
   "outputs": [
    {
     "name": "stdout",
     "output_type": "stream",
     "text": [
      "Store: 45\n",
      "Fuel_Price: 892\n",
      "Unemployment: 349\n",
      "Day: 7\n",
      "Month: 12\n",
      "Year: 3\n"
     ]
    }
   ],
   "source": [
    "for i in ['Store','Fuel_Price','Unemployment','Day','Month','Year']:\n",
    "    print(f'{i}: {df[i].nunique()}')"
   ]
  },
  {
   "cell_type": "markdown",
   "id": "8a7613f6",
   "metadata": {},
   "source": [
    "Terlihat bahwa, kolom `Store` mempunyai 45 nilai unik, kolom `Fuel_Price` mempunyai 892 nilai unik, kolom `Unemployment` mempunyai 349 nilai unik, kolom `Day` mempunyai 7 nilai unik, kolom `Month` mempunyai 12 nilai unik, dan kolom `Year` mempunyai 3 nilai unik yaitu tahun 2010, 2011, dan 2012."
   ]
  },
  {
   "cell_type": "markdown",
   "id": "fbce064a",
   "metadata": {
    "id": "fbce064a"
   },
   "source": [
    "## D. Corelation Analysis"
   ]
  },
  {
   "cell_type": "code",
   "execution_count": 9,
   "id": "wHw5TdctGebB",
   "metadata": {
    "colab": {
     "base_uri": "https://localhost:8080/",
     "height": 307
    },
    "id": "wHw5TdctGebB",
    "outputId": "54f35a8c-0358-40f3-bc3c-f5d17b416277"
   },
   "outputs": [
    {
     "data": {
      "text/plain": [
       "<AxesSubplot:xlabel='Year', ylabel='Weekly_Sales'>"
      ]
     },
     "execution_count": 9,
     "metadata": {},
     "output_type": "execute_result"
    },
    {
     "data": {
      "image/png": "[encoded data removed]",
      "text/plain": [
       "<Figure size 432x288 with 1 Axes>"
      ]
     },
     "metadata": {
      "needs_background": "light"
     },
     "output_type": "display_data"
    }
   ],
   "source": [
    "annual_sales = df[['Year', 'Weekly_Sales']].groupby('Year').sum().reset_index()\n",
    "sns.barplot(x=\"Year\", y=\"Weekly_Sales\", data=annual_sales, label=\"Annual_Sales\")"
   ]
  },
  {
   "cell_type": "markdown",
   "id": "5706738b",
   "metadata": {
    "id": "5706738b"
   },
   "source": [
    "Dari hasil plot diatas, tahun 2011 mencatat jumlah penjualan tertinggi kemudian diikuti oleh tahun 2010 dan tahun 2012."
   ]
  },
  {
   "cell_type": "code",
   "execution_count": 10,
   "id": "652e4c8d",
   "metadata": {},
   "outputs": [
    {
     "data": {
      "text/plain": [
       "<AxesSubplot:xlabel='Day', ylabel='Weekly_Sales'>"
      ]
     },
     "execution_count": 10,
     "metadata": {},
     "output_type": "execute_result"
    },
    {
     "data": {
      "image/png": "[encoded data removed]",
      "text/plain": [
       "<Figure size 432x288 with 1 Axes>"
      ]
     },
     "metadata": {
      "needs_background": "light"
     },
     "output_type": "display_data"
    }
   ],
   "source": [
    "daily_sales = df[['Day', 'Weekly_Sales']].groupby('Day').sum().reset_index()\n",
    "sns.barplot(x=\"Day\", y=\"Weekly_Sales\", data=daily_sales, label=\"Daily_Sales\")"
   ]
  },
  {
   "cell_type": "markdown",
   "id": "38bb10dd",
   "metadata": {
    "id": "38bb10dd"
   },
   "source": [
    "Dari hasil pie chart diatas, lebih dari 50% penjualan tertinggi terjadi pada Hari Kamis."
   ]
  },
  {
   "cell_type": "code",
   "execution_count": 11,
   "id": "a616854a",
   "metadata": {},
   "outputs": [
    {
     "data": {
      "text/plain": [
       "<AxesSubplot:xlabel='Month', ylabel='Weekly_Sales'>"
      ]
     },
     "execution_count": 11,
     "metadata": {},
     "output_type": "execute_result"
    },
    {
     "data": {
      "image/png": "[encoded data removed]",
      "text/plain": [
       "<Figure size 864x720 with 1 Axes>"
      ]
     },
     "metadata": {
      "needs_background": "light"
     },
     "output_type": "display_data"
    }
   ],
   "source": [
    "monthly_sales = df[['Month', 'Weekly_Sales']].groupby('Month').sum().reset_index()\n",
    "plt.figure(figsize=(12,10))\n",
    "sns.barplot(x=\"Month\", y=\"Weekly_Sales\", data=monthly_sales, label=\"Monthly_Sales\")"
   ]
  },
  {
   "cell_type": "markdown",
   "id": "bf7c6995",
   "metadata": {
    "id": "bf7c6995"
   },
   "source": [
    "Terlihat dari pie chart diatas, penjualan tertinggi tercatat pada Bulan April kemudian disusul Bulan Mei, Oktober, dan Desember sebagai penjualan tertinggi selanjutnya. Dan penjualan terendah tercatat pada Bulan Januari."
   ]
  },
  {
   "cell_type": "code",
   "execution_count": 12,
   "id": "xKNk_v5JKMcu",
   "metadata": {
    "colab": {
     "base_uri": "https://localhost:8080/",
     "height": 332
    },
    "id": "xKNk_v5JKMcu",
    "outputId": "54bbf812-92fa-40a6-ce89-776b309a55b8",
    "scrolled": true
   },
   "outputs": [
    {
     "data": {
      "text/html": [
       "<style type=\"text/css\">\n",
       "#T_fd8a9_row0_col0, #T_fd8a9_row1_col1, #T_fd8a9_row2_col2, #T_fd8a9_row3_col3, #T_fd8a9_row4_col4, #T_fd8a9_row5_col5, #T_fd8a9_row6_col6, #T_fd8a9_row7_col7, #T_fd8a9_row8_col8, #T_fd8a9_row9_col9 {\n",
       "  background-color: #def5e5;\n",
       "  color: #000000;\n",
       "}\n",
       "#T_fd8a9_row0_col1, #T_fd8a9_row1_col0, #T_fd8a9_row2_col3, #T_fd8a9_row2_col4, #T_fd8a9_row3_col2, #T_fd8a9_row5_col6, #T_fd8a9_row6_col5, #T_fd8a9_row6_col8, #T_fd8a9_row7_col9, #T_fd8a9_row8_col7, #T_fd8a9_row8_col9 {\n",
       "  background-color: #0b0405;\n",
       "  color: #f1f1f1;\n",
       "}\n",
       "#T_fd8a9_row0_col2 {\n",
       "  background-color: #2b1c35;\n",
       "  color: #f1f1f1;\n",
       "}\n",
       "#T_fd8a9_row0_col3 {\n",
       "  background-color: #26172b;\n",
       "  color: #f1f1f1;\n",
       "}\n",
       "#T_fd8a9_row0_col4, #T_fd8a9_row6_col2 {\n",
       "  background-color: #2d1d38;\n",
       "  color: #f1f1f1;\n",
       "}\n",
       "#T_fd8a9_row0_col5 {\n",
       "  background-color: #27182d;\n",
       "  color: #f1f1f1;\n",
       "}\n",
       "#T_fd8a9_row0_col6 {\n",
       "  background-color: #357aa2;\n",
       "  color: #f1f1f1;\n",
       "}\n",
       "#T_fd8a9_row0_col7, #T_fd8a9_row3_col9, #T_fd8a9_row6_col7, #T_fd8a9_row9_col8 {\n",
       "  background-color: #291a31;\n",
       "  color: #f1f1f1;\n",
       "}\n",
       "#T_fd8a9_row0_col8, #T_fd8a9_row3_col0 {\n",
       "  background-color: #3b2d5b;\n",
       "  color: #f1f1f1;\n",
       "}\n",
       "#T_fd8a9_row0_col9 {\n",
       "  background-color: #291930;\n",
       "  color: #f1f1f1;\n",
       "}\n",
       "#T_fd8a9_row1_col2, #T_fd8a9_row6_col9 {\n",
       "  background-color: #30203e;\n",
       "  color: #f1f1f1;\n",
       "}\n",
       "#T_fd8a9_row1_col3 {\n",
       "  background-color: #1c101c;\n",
       "  color: #f1f1f1;\n",
       "}\n",
       "#T_fd8a9_row1_col4 {\n",
       "  background-color: #251729;\n",
       "  color: #f1f1f1;\n",
       "}\n",
       "#T_fd8a9_row1_col5 {\n",
       "  background-color: #3d3266;\n",
       "  color: #f1f1f1;\n",
       "}\n",
       "#T_fd8a9_row1_col6, #T_fd8a9_row2_col0, #T_fd8a9_row4_col3, #T_fd8a9_row7_col0, #T_fd8a9_row8_col0, #T_fd8a9_row9_col0 {\n",
       "  background-color: #3d3164;\n",
       "  color: #f1f1f1;\n",
       "}\n",
       "#T_fd8a9_row1_col7, #T_fd8a9_row6_col3 {\n",
       "  background-color: #312142;\n",
       "  color: #f1f1f1;\n",
       "}\n",
       "#T_fd8a9_row1_col8 {\n",
       "  background-color: #3a2c59;\n",
       "  color: #f1f1f1;\n",
       "}\n",
       "#T_fd8a9_row1_col9 {\n",
       "  background-color: #241628;\n",
       "  color: #f1f1f1;\n",
       "}\n",
       "#T_fd8a9_row2_col1, #T_fd8a9_row4_col1, #T_fd8a9_row9_col5 {\n",
       "  background-color: #3f366d;\n",
       "  color: #f1f1f1;\n",
       "}\n",
       "#T_fd8a9_row2_col5 {\n",
       "  background-color: #403a76;\n",
       "  color: #f1f1f1;\n",
       "}\n",
       "#T_fd8a9_row2_col6, #T_fd8a9_row4_col0 {\n",
       "  background-color: #413d7b;\n",
       "  color: #f1f1f1;\n",
       "}\n",
       "#T_fd8a9_row2_col7 {\n",
       "  background-color: #385f9c;\n",
       "  color: #f1f1f1;\n",
       "}\n",
       "#T_fd8a9_row2_col8 {\n",
       "  background-color: #342548;\n",
       "  color: #f1f1f1;\n",
       "}\n",
       "#T_fd8a9_row2_col9, #T_fd8a9_row5_col4 {\n",
       "  background-color: #140910;\n",
       "  color: #f1f1f1;\n",
       "}\n",
       "#T_fd8a9_row3_col1, #T_fd8a9_row3_col7, #T_fd8a9_row8_col3 {\n",
       "  background-color: #35264c;\n",
       "  color: #f1f1f1;\n",
       "}\n",
       "#T_fd8a9_row3_col4, #T_fd8a9_row5_col1 {\n",
       "  background-color: #372851;\n",
       "  color: #f1f1f1;\n",
       "}\n",
       "#T_fd8a9_row3_col5 {\n",
       "  background-color: #395d9c;\n",
       "  color: #f1f1f1;\n",
       "}\n",
       "#T_fd8a9_row3_col6 {\n",
       "  background-color: #414184;\n",
       "  color: #f1f1f1;\n",
       "}\n",
       "#T_fd8a9_row3_col8 {\n",
       "  background-color: #403872;\n",
       "  color: #f1f1f1;\n",
       "}\n",
       "#T_fd8a9_row4_col2 {\n",
       "  background-color: #1a0e19;\n",
       "  color: #f1f1f1;\n",
       "}\n",
       "#T_fd8a9_row4_col5 {\n",
       "  background-color: #3e3469;\n",
       "  color: #f1f1f1;\n",
       "}\n",
       "#T_fd8a9_row4_col6, #T_fd8a9_row8_col1 {\n",
       "  background-color: #3c3162;\n",
       "  color: #f1f1f1;\n",
       "}\n",
       "#T_fd8a9_row4_col7 {\n",
       "  background-color: #1d111d;\n",
       "  color: #f1f1f1;\n",
       "}\n",
       "#T_fd8a9_row4_col8 {\n",
       "  background-color: #6ad2ad;\n",
       "  color: #000000;\n",
       "}\n",
       "#T_fd8a9_row4_col9 {\n",
       "  background-color: #1b0f1a;\n",
       "  color: #f1f1f1;\n",
       "}\n",
       "#T_fd8a9_row5_col0 {\n",
       "  background-color: #190e18;\n",
       "  color: #f1f1f1;\n",
       "}\n",
       "#T_fd8a9_row5_col2, #T_fd8a9_row5_col7 {\n",
       "  background-color: #2a1b33;\n",
       "  color: #f1f1f1;\n",
       "}\n",
       "#T_fd8a9_row5_col3, #T_fd8a9_row7_col1 {\n",
       "  background-color: #403974;\n",
       "  color: #f1f1f1;\n",
       "}\n",
       "#T_fd8a9_row5_col8 {\n",
       "  background-color: #3a5b9b;\n",
       "  color: #f1f1f1;\n",
       "}\n",
       "#T_fd8a9_row5_col9 {\n",
       "  background-color: #211423;\n",
       "  color: #f1f1f1;\n",
       "}\n",
       "#T_fd8a9_row6_col0 {\n",
       "  background-color: #3671a0;\n",
       "  color: #f1f1f1;\n",
       "}\n",
       "#T_fd8a9_row6_col1 {\n",
       "  background-color: #37284f;\n",
       "  color: #f1f1f1;\n",
       "}\n",
       "#T_fd8a9_row6_col4 {\n",
       "  background-color: #0f0609;\n",
       "  color: #f1f1f1;\n",
       "}\n",
       "#T_fd8a9_row7_col2 {\n",
       "  background-color: #38629d;\n",
       "  color: #f1f1f1;\n",
       "}\n",
       "#T_fd8a9_row7_col3 {\n",
       "  background-color: #36274d;\n",
       "  color: #f1f1f1;\n",
       "}\n",
       "#T_fd8a9_row7_col4 {\n",
       "  background-color: #11070c;\n",
       "  color: #f1f1f1;\n",
       "}\n",
       "#T_fd8a9_row7_col5 {\n",
       "  background-color: #403c79;\n",
       "  color: #f1f1f1;\n",
       "}\n",
       "#T_fd8a9_row7_col6 {\n",
       "  background-color: #403b78;\n",
       "  color: #f1f1f1;\n",
       "}\n",
       "#T_fd8a9_row7_col8 {\n",
       "  background-color: #28192e;\n",
       "  color: #f1f1f1;\n",
       "}\n",
       "#T_fd8a9_row8_col2 {\n",
       "  background-color: #1f1220;\n",
       "  color: #f1f1f1;\n",
       "}\n",
       "#T_fd8a9_row8_col4 {\n",
       "  background-color: #55caad;\n",
       "  color: #000000;\n",
       "}\n",
       "#T_fd8a9_row8_col5 {\n",
       "  background-color: #36699f;\n",
       "  color: #f1f1f1;\n",
       "}\n",
       "#T_fd8a9_row8_col6 {\n",
       "  background-color: #201322;\n",
       "  color: #f1f1f1;\n",
       "}\n",
       "#T_fd8a9_row9_col1 {\n",
       "  background-color: #3b2e5d;\n",
       "  color: #f1f1f1;\n",
       "}\n",
       "#T_fd8a9_row9_col2 {\n",
       "  background-color: #170c15;\n",
       "  color: #f1f1f1;\n",
       "}\n",
       "#T_fd8a9_row9_col3 {\n",
       "  background-color: #2c1c36;\n",
       "  color: #f1f1f1;\n",
       "}\n",
       "#T_fd8a9_row9_col4 {\n",
       "  background-color: #10060a;\n",
       "  color: #f1f1f1;\n",
       "}\n",
       "#T_fd8a9_row9_col6 {\n",
       "  background-color: #414285;\n",
       "  color: #f1f1f1;\n",
       "}\n",
       "#T_fd8a9_row9_col7 {\n",
       "  background-color: #0d0406;\n",
       "  color: #f1f1f1;\n",
       "}\n",
       "</style>\n",
       "<table id=\"T_fd8a9_\">\n",
       "  <thead>\n",
       "    <tr>\n",
       "      <th class=\"blank level0\" >&nbsp;</th>\n",
       "      <th class=\"col_heading level0 col0\" >Store</th>\n",
       "      <th class=\"col_heading level0 col1\" >Weekly_Sales</th>\n",
       "      <th class=\"col_heading level0 col2\" >Holiday_Flag</th>\n",
       "      <th class=\"col_heading level0 col3\" >Temperature</th>\n",
       "      <th class=\"col_heading level0 col4\" >Fuel_Price</th>\n",
       "      <th class=\"col_heading level0 col5\" >CPI</th>\n",
       "      <th class=\"col_heading level0 col6\" >Unemployment</th>\n",
       "      <th class=\"col_heading level0 col7\" >Month</th>\n",
       "      <th class=\"col_heading level0 col8\" >Year</th>\n",
       "      <th class=\"col_heading level0 col9\" >Day_Number</th>\n",
       "    </tr>\n",
       "  </thead>\n",
       "  <tbody>\n",
       "    <tr>\n",
       "      <th id=\"T_fd8a9_level0_row0\" class=\"row_heading level0 row0\" >Store</th>\n",
       "      <td id=\"T_fd8a9_row0_col0\" class=\"data row0 col0\" >1.000000</td>\n",
       "      <td id=\"T_fd8a9_row0_col1\" class=\"data row0 col1\" >-0.309227</td>\n",
       "      <td id=\"T_fd8a9_row0_col2\" class=\"data row0 col2\" >0.000000</td>\n",
       "      <td id=\"T_fd8a9_row0_col3\" class=\"data row0 col3\" >-0.026392</td>\n",
       "      <td id=\"T_fd8a9_row0_col4\" class=\"data row0 col4\" >0.064878</td>\n",
       "      <td id=\"T_fd8a9_row0_col5\" class=\"data row0 col5\" >-0.238852</td>\n",
       "      <td id=\"T_fd8a9_row0_col6\" class=\"data row0 col6\" >0.304139</td>\n",
       "      <td id=\"T_fd8a9_row0_col7\" class=\"data row0 col7\" >0.000000</td>\n",
       "      <td id=\"T_fd8a9_row0_col8\" class=\"data row0 col8\" >0.000000</td>\n",
       "      <td id=\"T_fd8a9_row0_col9\" class=\"data row0 col9\" >0.000000</td>\n",
       "    </tr>\n",
       "    <tr>\n",
       "      <th id=\"T_fd8a9_level0_row1\" class=\"row_heading level0 row1\" >Weekly_Sales</th>\n",
       "      <td id=\"T_fd8a9_row1_col0\" class=\"data row1 col0\" >-0.309227</td>\n",
       "      <td id=\"T_fd8a9_row1_col1\" class=\"data row1 col1\" >1.000000</td>\n",
       "      <td id=\"T_fd8a9_row1_col2\" class=\"data row1 col2\" >0.027774</td>\n",
       "      <td id=\"T_fd8a9_row1_col3\" class=\"data row1 col3\" >-0.070962</td>\n",
       "      <td id=\"T_fd8a9_row1_col4\" class=\"data row1 col4\" >0.025471</td>\n",
       "      <td id=\"T_fd8a9_row1_col5\" class=\"data row1 col5\" >-0.055040</td>\n",
       "      <td id=\"T_fd8a9_row1_col6\" class=\"data row1 col6\" >-0.062354</td>\n",
       "      <td id=\"T_fd8a9_row1_col7\" class=\"data row1 col7\" >0.045589</td>\n",
       "      <td id=\"T_fd8a9_row1_col8\" class=\"data row1 col8\" >-0.006395</td>\n",
       "      <td id=\"T_fd8a9_row1_col9\" class=\"data row1 col9\" >-0.018558</td>\n",
       "    </tr>\n",
       "    <tr>\n",
       "      <th id=\"T_fd8a9_level0_row2\" class=\"row_heading level0 row2\" >Holiday_Flag</th>\n",
       "      <td id=\"T_fd8a9_row2_col0\" class=\"data row2 col0\" >0.000000</td>\n",
       "      <td id=\"T_fd8a9_row2_col1\" class=\"data row2 col1\" >0.027774</td>\n",
       "      <td id=\"T_fd8a9_row2_col2\" class=\"data row2 col2\" >1.000000</td>\n",
       "      <td id=\"T_fd8a9_row2_col3\" class=\"data row2 col3\" >-0.143588</td>\n",
       "      <td id=\"T_fd8a9_row2_col4\" class=\"data row2 col4\" >-0.080111</td>\n",
       "      <td id=\"T_fd8a9_row2_col5\" class=\"data row2 col5\" >-0.004752</td>\n",
       "      <td id=\"T_fd8a9_row2_col6\" class=\"data row2 col6\" >0.011177</td>\n",
       "      <td id=\"T_fd8a9_row2_col7\" class=\"data row2 col7\" >0.329995</td>\n",
       "      <td id=\"T_fd8a9_row2_col8\" class=\"data row2 col8\" >-0.056426</td>\n",
       "      <td id=\"T_fd8a9_row2_col9\" class=\"data row2 col9\" >-0.091559</td>\n",
       "    </tr>\n",
       "    <tr>\n",
       "      <th id=\"T_fd8a9_level0_row3\" class=\"row_heading level0 row3\" >Temperature</th>\n",
       "      <td id=\"T_fd8a9_row3_col0\" class=\"data row3 col0\" >-0.026392</td>\n",
       "      <td id=\"T_fd8a9_row3_col1\" class=\"data row3 col1\" >-0.070962</td>\n",
       "      <td id=\"T_fd8a9_row3_col2\" class=\"data row3 col2\" >-0.143588</td>\n",
       "      <td id=\"T_fd8a9_row3_col3\" class=\"data row3 col3\" >1.000000</td>\n",
       "      <td id=\"T_fd8a9_row3_col4\" class=\"data row3 col4\" >0.128624</td>\n",
       "      <td id=\"T_fd8a9_row3_col5\" class=\"data row3 col5\" >0.165957</td>\n",
       "      <td id=\"T_fd8a9_row3_col6\" class=\"data row3 col6\" >0.038833</td>\n",
       "      <td id=\"T_fd8a9_row3_col7\" class=\"data row3 col7\" >0.070467</td>\n",
       "      <td id=\"T_fd8a9_row3_col8\" class=\"data row3 col8\" >0.064448</td>\n",
       "      <td id=\"T_fd8a9_row3_col9\" class=\"data row3 col9\" >0.004193</td>\n",
       "    </tr>\n",
       "    <tr>\n",
       "      <th id=\"T_fd8a9_level0_row4\" class=\"row_heading level0 row4\" >Fuel_Price</th>\n",
       "      <td id=\"T_fd8a9_row4_col0\" class=\"data row4 col0\" >0.064878</td>\n",
       "      <td id=\"T_fd8a9_row4_col1\" class=\"data row4 col1\" >0.025471</td>\n",
       "      <td id=\"T_fd8a9_row4_col2\" class=\"data row4 col2\" >-0.080111</td>\n",
       "      <td id=\"T_fd8a9_row4_col3\" class=\"data row4 col3\" >0.128624</td>\n",
       "      <td id=\"T_fd8a9_row4_col4\" class=\"data row4 col4\" >1.000000</td>\n",
       "      <td id=\"T_fd8a9_row4_col5\" class=\"data row4 col5\" >-0.045867</td>\n",
       "      <td id=\"T_fd8a9_row4_col6\" class=\"data row4 col6\" >-0.064725</td>\n",
       "      <td id=\"T_fd8a9_row4_col7\" class=\"data row4 col7\" >-0.056058</td>\n",
       "      <td id=\"T_fd8a9_row4_col8\" class=\"data row4 col8\" >0.762505</td>\n",
       "      <td id=\"T_fd8a9_row4_col9\" class=\"data row4 col9\" >-0.060913</td>\n",
       "    </tr>\n",
       "    <tr>\n",
       "      <th id=\"T_fd8a9_level0_row5\" class=\"row_heading level0 row5\" >CPI</th>\n",
       "      <td id=\"T_fd8a9_row5_col0\" class=\"data row5 col0\" >-0.238852</td>\n",
       "      <td id=\"T_fd8a9_row5_col1\" class=\"data row5 col1\" >-0.055040</td>\n",
       "      <td id=\"T_fd8a9_row5_col2\" class=\"data row5 col2\" >-0.004752</td>\n",
       "      <td id=\"T_fd8a9_row5_col3\" class=\"data row5 col3\" >0.165957</td>\n",
       "      <td id=\"T_fd8a9_row5_col4\" class=\"data row5 col4\" >-0.045867</td>\n",
       "      <td id=\"T_fd8a9_row5_col5\" class=\"data row5 col5\" >1.000000</td>\n",
       "      <td id=\"T_fd8a9_row5_col6\" class=\"data row5 col6\" >-0.388563</td>\n",
       "      <td id=\"T_fd8a9_row5_col7\" class=\"data row5 col7\" >0.005928</td>\n",
       "      <td id=\"T_fd8a9_row5_col8\" class=\"data row5 col8\" >0.220834</td>\n",
       "      <td id=\"T_fd8a9_row5_col9\" class=\"data row5 col9\" >-0.031950</td>\n",
       "    </tr>\n",
       "    <tr>\n",
       "      <th id=\"T_fd8a9_level0_row6\" class=\"row_heading level0 row6\" >Unemployment</th>\n",
       "      <td id=\"T_fd8a9_row6_col0\" class=\"data row6 col0\" >0.304139</td>\n",
       "      <td id=\"T_fd8a9_row6_col1\" class=\"data row6 col1\" >-0.062354</td>\n",
       "      <td id=\"T_fd8a9_row6_col2\" class=\"data row6 col2\" >0.011177</td>\n",
       "      <td id=\"T_fd8a9_row6_col3\" class=\"data row6 col3\" >0.038833</td>\n",
       "      <td id=\"T_fd8a9_row6_col4\" class=\"data row6 col4\" >-0.064725</td>\n",
       "      <td id=\"T_fd8a9_row6_col5\" class=\"data row6 col5\" >-0.388563</td>\n",
       "      <td id=\"T_fd8a9_row6_col6\" class=\"data row6 col6\" >1.000000</td>\n",
       "      <td id=\"T_fd8a9_row6_col7\" class=\"data row6 col7\" >-0.001387</td>\n",
       "      <td id=\"T_fd8a9_row6_col8\" class=\"data row6 col8\" >-0.279020</td>\n",
       "      <td id=\"T_fd8a9_row6_col9\" class=\"data row6 col9\" >0.043187</td>\n",
       "    </tr>\n",
       "    <tr>\n",
       "      <th id=\"T_fd8a9_level0_row7\" class=\"row_heading level0 row7\" >Month</th>\n",
       "      <td id=\"T_fd8a9_row7_col0\" class=\"data row7 col0\" >0.000000</td>\n",
       "      <td id=\"T_fd8a9_row7_col1\" class=\"data row7 col1\" >0.045589</td>\n",
       "      <td id=\"T_fd8a9_row7_col2\" class=\"data row7 col2\" >0.329995</td>\n",
       "      <td id=\"T_fd8a9_row7_col3\" class=\"data row7 col3\" >0.070467</td>\n",
       "      <td id=\"T_fd8a9_row7_col4\" class=\"data row7 col4\" >-0.056058</td>\n",
       "      <td id=\"T_fd8a9_row7_col5\" class=\"data row7 col5\" >0.005928</td>\n",
       "      <td id=\"T_fd8a9_row7_col6\" class=\"data row7 col6\" >-0.001387</td>\n",
       "      <td id=\"T_fd8a9_row7_col7\" class=\"data row7 col7\" >1.000000</td>\n",
       "      <td id=\"T_fd8a9_row7_col8\" class=\"data row7 col8\" >-0.135752</td>\n",
       "      <td id=\"T_fd8a9_row7_col9\" class=\"data row7 col9\" >-0.128210</td>\n",
       "    </tr>\n",
       "    <tr>\n",
       "      <th id=\"T_fd8a9_level0_row8\" class=\"row_heading level0 row8\" >Year</th>\n",
       "      <td id=\"T_fd8a9_row8_col0\" class=\"data row8 col0\" >0.000000</td>\n",
       "      <td id=\"T_fd8a9_row8_col1\" class=\"data row8 col1\" >-0.006395</td>\n",
       "      <td id=\"T_fd8a9_row8_col2\" class=\"data row8 col2\" >-0.056426</td>\n",
       "      <td id=\"T_fd8a9_row8_col3\" class=\"data row8 col3\" >0.064448</td>\n",
       "      <td id=\"T_fd8a9_row8_col4\" class=\"data row8 col4\" >0.762505</td>\n",
       "      <td id=\"T_fd8a9_row8_col5\" class=\"data row8 col5\" >0.220834</td>\n",
       "      <td id=\"T_fd8a9_row8_col6\" class=\"data row8 col6\" >-0.279020</td>\n",
       "      <td id=\"T_fd8a9_row8_col7\" class=\"data row8 col7\" >-0.135752</td>\n",
       "      <td id=\"T_fd8a9_row8_col8\" class=\"data row8 col8\" >1.000000</td>\n",
       "      <td id=\"T_fd8a9_row8_col9\" class=\"data row8 col9\" >-0.128449</td>\n",
       "    </tr>\n",
       "    <tr>\n",
       "      <th id=\"T_fd8a9_level0_row9\" class=\"row_heading level0 row9\" >Day_Number</th>\n",
       "      <td id=\"T_fd8a9_row9_col0\" class=\"data row9 col0\" >0.000000</td>\n",
       "      <td id=\"T_fd8a9_row9_col1\" class=\"data row9 col1\" >-0.018558</td>\n",
       "      <td id=\"T_fd8a9_row9_col2\" class=\"data row9 col2\" >-0.091559</td>\n",
       "      <td id=\"T_fd8a9_row9_col3\" class=\"data row9 col3\" >0.004193</td>\n",
       "      <td id=\"T_fd8a9_row9_col4\" class=\"data row9 col4\" >-0.060913</td>\n",
       "      <td id=\"T_fd8a9_row9_col5\" class=\"data row9 col5\" >-0.031950</td>\n",
       "      <td id=\"T_fd8a9_row9_col6\" class=\"data row9 col6\" >0.043187</td>\n",
       "      <td id=\"T_fd8a9_row9_col7\" class=\"data row9 col7\" >-0.128210</td>\n",
       "      <td id=\"T_fd8a9_row9_col8\" class=\"data row9 col8\" >-0.128449</td>\n",
       "      <td id=\"T_fd8a9_row9_col9\" class=\"data row9 col9\" >1.000000</td>\n",
       "    </tr>\n",
       "  </tbody>\n",
       "</table>\n"
      ],
      "text/plain": [
       "<pandas.io.formats.style.Styler at 0x1d5367c3940>"
      ]
     },
     "execution_count": 12,
     "metadata": {},
     "output_type": "execute_result"
    }
   ],
   "source": [
    "df.corr('spearman').style.background_gradient(cmap='mako')"
   ]
  },
  {
   "cell_type": "markdown",
   "id": "4371dd6f",
   "metadata": {
    "id": "4371dd6f"
   },
   "source": [
    "Dapat dilihat bahwa dua variabel yang memiliki korelasi tinggi adalah `Year` dan `Fuel_Price`. Hal ini make sense karena, biaya bahan bakar di daerah tertentu pasti berbeda setiap tahunnya."
   ]
  },
  {
   "cell_type": "markdown",
   "id": "615beb78",
   "metadata": {
    "id": "615beb78"
   },
   "source": [
    "### D1. Visualization"
   ]
  },
  {
   "cell_type": "markdown",
   "id": "340a83d2",
   "metadata": {
    "id": "340a83d2"
   },
   "source": [
    "### Pengaruh `Store` terhadap `Weekly_Sales`"
   ]
  },
  {
   "cell_type": "code",
   "execution_count": 13,
   "id": "3e6c184b",
   "metadata": {
    "id": "3e6c184b",
    "outputId": "8c26d86f-1419-4454-81f5-a6d3194a9b1c",
    "scrolled": true
   },
   "outputs": [
    {
     "data": {
      "text/plain": [
       "<AxesSubplot:xlabel='Store', ylabel='Weekly_Sales'>"
      ]
     },
     "execution_count": 13,
     "metadata": {},
     "output_type": "execute_result"
    },
    {
     "data": {
      "image/png": "[encoded data removed]",
      "text/plain": [
       "<Figure size 2880x2160 with 1 Axes>"
      ]
     },
     "metadata": {
      "needs_background": "light"
     },
     "output_type": "display_data"
    }
   ],
   "source": [
    "plt.figure(figsize=(40,30))\n",
    "sns.barplot(x=df.Store, y = df.Weekly_Sales)"
   ]
  },
  {
   "cell_type": "markdown",
   "id": "1c1e0e37",
   "metadata": {
    "id": "1c1e0e37"
   },
   "source": [
    "Dari barplot diatas, terlihat bahwa penjualan tertinggi tercatat pada `Store` 20."
   ]
  },
  {
   "cell_type": "markdown",
   "id": "df296620",
   "metadata": {
    "id": "df296620"
   },
   "source": [
    "### Pengaruh `Holiday_Flag` terhadap `Weekly_Sales`"
   ]
  },
  {
   "cell_type": "code",
   "execution_count": 14,
   "id": "09a464d5",
   "metadata": {
    "id": "09a464d5",
    "outputId": "15e46aef-ae52-4b7d-8a48-4f8cd6de9ee8",
    "scrolled": true
   },
   "outputs": [
    {
     "data": {
      "image/png": "[encoded data removed]",
      "text/plain": [
       "<Figure size 432x288 with 1 Axes>"
      ]
     },
     "metadata": {
      "needs_background": "light"
     },
     "output_type": "display_data"
    }
   ],
   "source": [
    "fig = plt.figure()  \n",
    "ax = sns.boxplot(data = df, x = 'Holiday_Flag', y = 'Weekly_Sales')\n",
    "plt.show() "
   ]
  },
  {
   "cell_type": "markdown",
   "id": "6428ae22",
   "metadata": {
    "id": "6428ae22"
   },
   "source": [
    "Korelasi antara `Holiday_Flag` dan `Weekly_Sales` dikatakan rendah karena dari boxplot terlihat perbedaan penjualan di hari libur dan hari tidak libur tidak jauh beda."
   ]
  },
  {
   "cell_type": "markdown",
   "id": "c333800f",
   "metadata": {
    "id": "c333800f"
   },
   "source": [
    "### `Temperature` "
   ]
  },
  {
   "cell_type": "code",
   "execution_count": 15,
   "id": "WTFG5ilkOPJE",
   "metadata": {
    "id": "WTFG5ilkOPJE"
   },
   "outputs": [],
   "source": [
    "sales_temp = df[['Temperature', 'Weekly_Sales']].groupby('Temperature').mean().reset_index()"
   ]
  },
  {
   "cell_type": "code",
   "execution_count": 16,
   "id": "V2SKqLrdOqXu",
   "metadata": {
    "colab": {
     "base_uri": "https://localhost:8080/",
     "height": 307
    },
    "id": "V2SKqLrdOqXu",
    "outputId": "359e5c9e-5fe7-4ece-ee20-77e434aa17a7"
   },
   "outputs": [
    {
     "data": {
      "text/plain": [
       "<AxesSubplot:xlabel='Temperature', ylabel='Weekly_Sales'>"
      ]
     },
     "execution_count": 16,
     "metadata": {},
     "output_type": "execute_result"
    },
    {
     "data": {
      "image/png": "[encoded data removed]",
      "text/plain": [
       "<Figure size 432x288 with 1 Axes>"
      ]
     },
     "metadata": {
      "needs_background": "light"
     },
     "output_type": "display_data"
    }
   ],
   "source": [
    "sns.scatterplot(x='Temperature', y='Weekly_Sales', data=sales_temp)"
   ]
  },
  {
   "cell_type": "markdown",
   "id": "9d298b52",
   "metadata": {
    "id": "9d298b52"
   },
   "source": [
    "Dapat dilihat bahwa `Temperature` pada selang 60-70 mempengaruhi penjualan, dimana terlihat dari tingginya histogram diatas pada selang tersebut."
   ]
  },
  {
   "cell_type": "markdown",
   "id": "31fc1a7a",
   "metadata": {
    "id": "31fc1a7a"
   },
   "source": [
    "### Pengaruh `Fuel_Price` terhadap `Weekly_Sales`"
   ]
  },
  {
   "cell_type": "code",
   "execution_count": 17,
   "id": "4af4be59",
   "metadata": {
    "id": "4af4be59",
    "outputId": "b1681cee-e0b6-481e-b193-b5b54d4b7774",
    "scrolled": true
   },
   "outputs": [
    {
     "data": {
      "image/png": "[encoded data removed]",
      "text/plain": [
       "<Figure size 432x288 with 1 Axes>"
      ]
     },
     "metadata": {
      "needs_background": "light"
     },
     "output_type": "display_data"
    }
   ],
   "source": [
    "fig = plt.figure()  \n",
    "ax = sns.scatterplot(data = df, x='Fuel_Price', y = 'Weekly_Sales')\n",
    "plt.show() "
   ]
  },
  {
   "cell_type": "markdown",
   "id": "37027c73",
   "metadata": {
    "id": "37027c73"
   },
   "source": [
    "Dari visualisasi scatter plot diatas, menyimpulkan bahwa ***tidak ada*** hubungan yang kuat antara penjualan dengan harga bahan bakar."
   ]
  },
  {
   "cell_type": "markdown",
   "id": "6fbadddc",
   "metadata": {
    "id": "6fbadddc"
   },
   "source": [
    "### Pengaruh `CPI` terhadap `Weekly_Sales`"
   ]
  },
  {
   "cell_type": "code",
   "execution_count": 18,
   "id": "e858e9dd",
   "metadata": {
    "id": "e858e9dd",
    "outputId": "9366ae33-4193-4b9c-f3b6-11e80f0aea80",
    "scrolled": true
   },
   "outputs": [
    {
     "data": {
      "image/png": "[encoded data removed]",
      "text/plain": [
       "<Figure size 432x288 with 1 Axes>"
      ]
     },
     "metadata": {
      "needs_background": "light"
     },
     "output_type": "display_data"
    }
   ],
   "source": [
    "fig = plt.figure()  \n",
    "ax = sns.scatterplot(data = df, x='CPI', y = 'Weekly_Sales')\n",
    "plt.show() "
   ]
  },
  {
   "cell_type": "markdown",
   "id": "e73edf9c",
   "metadata": {
    "id": "e73edf9c"
   },
   "source": [
    "Pada scatter plot diatas rentang CPI yang berbeda memiliki distribusi penjualan yang sama. Sehingga disimpulkan bahwa perbedaan Indeks Harga Konsumen (CPI) ***tidak akan*** mempengaruhi penjualan. "
   ]
  },
  {
   "cell_type": "markdown",
   "id": "93e61250",
   "metadata": {
    "id": "93e61250"
   },
   "source": [
    "### `Unemployment`"
   ]
  },
  {
   "cell_type": "code",
   "execution_count": 21,
   "id": "afa8076c",
   "metadata": {
    "id": "afa8076c",
    "outputId": "7f8ff00f-823c-4143-be2a-d6b2c6a85a6c"
   },
   "outputs": [
    {
     "data": {
      "image/png": "[encoded data removed]",
      "text/plain": [
       "<Figure size 432x288 with 1 Axes>"
      ]
     },
     "metadata": {
      "needs_background": "light"
     },
     "output_type": "display_data"
    }
   ],
   "source": [
    "fig = plt.figure()  \n",
    "ax = sns.histplot(data = df, x='Unemployment', binwidth = 0.25, color='#5037F6')\n",
    "plt.show() "
   ]
  },
  {
   "cell_type": "markdown",
   "id": "28ebf4ad",
   "metadata": {
    "id": "28ebf4ad"
   },
   "source": [
    "Berdasarkan visualisasi ini, kita dapat mengetahui bahwa tingkat pengangguran yang rendah akan berpengaruh pada penjualan (terindikasikan dari tingginya 'bar' diantara rentang 6-10). "
   ]
  },
  {
   "cell_type": "markdown",
   "id": "47f56669",
   "metadata": {
    "id": "47f56669"
   },
   "source": [
    "## Insight\n",
    "\n",
    "- Tahun 2011 mencatat jumlah penjualan tertinggi kemudian diikuti oleh tahun 2010 dan tahun 2012.\n",
    "- Penjualan tertinggi terjadi pada Hari Kamis yaitu lebih dari 50%.\n",
    "- Bulan April tercatat sebagai penjualan tertinggi dan Bulan Januari sebagai penjualan terendah.\n",
    "- Penjualan tertinggi tercatat pada `Store` 20.\n",
    "- Berdasarkan spearman correlation, `Year` dan `Fuel_Price` merupakan dua variabel yang mempunyai korelasi tinggi, hal tersebut make sense karena biaya bahan bakar di daerah tertentu pasti berbeda setiap tahunnya.\n",
    "- Korelasi antara `Holiday_Flag` dan `Weekly_Sales` dikatakan rendah karena dari boxplot terlihat perbedaan penjualan di hari libur dan hari tidak libur tidak jauh beda. \n",
    "- `Temperature` pada selang 60-70 mempengaruhi penjualan, dimana terlihat dari tingginya histogram pada selang tersebut.\n",
    "- ***Tidak ada*** korelasi antara `Fuel_Price` dan `Weekly_Sales`.\n",
    "- Rentang CPI yang berbeda memiliki distribusi penjualan yang sama. Sehingga disimpulkan bahwa perbedaan Indeks Harga Konsumen (`CPI`) ***tidak akan*** mempengaruhi penjualan.\n",
    "- Terdapat korelasi antara `Unemployment` dan `Weekly_Sales` bahwa tingkat pengangguran yang rendah akan berpengaruh pada penjualan (terindikasikan dari tingginya 'bar' diantara rentang 6-10)."
   ]
  },
  {
   "cell_type": "markdown",
   "id": "0811b203",
   "metadata": {
    "id": "f13fc7ee"
   },
   "source": [
    "## E. Check Outliers"
   ]
  },
  {
   "cell_type": "code",
   "execution_count": 21,
   "id": "2e924cd6",
   "metadata": {},
   "outputs": [
    {
     "data": {
      "image/png": "[encoded data removed]",
      "text/plain": [
       "<Figure size 432x288 with 1 Axes>"
      ]
     },
     "metadata": {
      "needs_background": "light"
     },
     "output_type": "display_data"
    }
   ],
   "source": [
    "#Visualisasi IQR Method\n",
    "fig = plt.figure()  \n",
    "ax = sns.boxplot(data = df, x = 'Store')\n",
    "plt.show() "
   ]
  },
  {
   "cell_type": "code",
   "execution_count": 22,
   "id": "49a9de2b",
   "metadata": {
    "scrolled": true
   },
   "outputs": [
    {
     "data": {
      "image/png": "[encoded data removed]",
      "text/plain": [
       "<Figure size 432x288 with 1 Axes>"
      ]
     },
     "metadata": {
      "needs_background": "light"
     },
     "output_type": "display_data"
    }
   ],
   "source": [
    "#Visualisasi IQR Method\n",
    "fig = plt.figure()  \n",
    "ax = sns.boxplot(data = df, x = 'Weekly_Sales')\n",
    "plt.show() "
   ]
  },
  {
   "cell_type": "code",
   "execution_count": 23,
   "id": "a9ab5618",
   "metadata": {},
   "outputs": [
    {
     "data": {
      "image/png": "[encoded data removed]",
      "text/plain": [
       "<Figure size 432x288 with 1 Axes>"
      ]
     },
     "metadata": {
      "needs_background": "light"
     },
     "output_type": "display_data"
    }
   ],
   "source": [
    "#Visualisasi IQR Method\n",
    "fig = plt.figure()  \n",
    "ax = sns.boxplot(data = df, x = 'Temperature')\n",
    "plt.show() "
   ]
  },
  {
   "cell_type": "code",
   "execution_count": 24,
   "id": "ccdba35f",
   "metadata": {},
   "outputs": [
    {
     "data": {
      "image/png": "[encoded data removed]",
      "text/plain": [
       "<Figure size 432x288 with 1 Axes>"
      ]
     },
     "metadata": {
      "needs_background": "light"
     },
     "output_type": "display_data"
    }
   ],
   "source": [
    "#Visualisasi IQR Method\n",
    "fig = plt.figure()  \n",
    "ax = sns.boxplot(data = df, x = 'Fuel_Price')\n",
    "plt.show() "
   ]
  },
  {
   "cell_type": "code",
   "execution_count": 25,
   "id": "45b04821",
   "metadata": {},
   "outputs": [
    {
     "data": {
      "image/png": "[encoded data removed]",
      "text/plain": [
       "<Figure size 432x288 with 1 Axes>"
      ]
     },
     "metadata": {
      "needs_background": "light"
     },
     "output_type": "display_data"
    }
   ],
   "source": [
    "#Visualisasi IQR Method\n",
    "fig = plt.figure()  \n",
    "ax = sns.boxplot(data = df, x = 'CPI')\n",
    "plt.show() "
   ]
  },
  {
   "cell_type": "code",
   "execution_count": 26,
   "id": "35a8328a",
   "metadata": {
    "id": "35a8328a"
   },
   "outputs": [
    {
     "data": {
      "image/png": "[encoded data removed]",
      "text/plain": [
       "<Figure size 432x288 with 1 Axes>"
      ]
     },
     "metadata": {
      "needs_background": "light"
     },
     "output_type": "display_data"
    }
   ],
   "source": [
    "#Visualisasi IQR Method\n",
    "fig = plt.figure()  \n",
    "ax = sns.boxplot(data = df, x = 'Unemployment')\n",
    "plt.show() "
   ]
  },
  {
   "cell_type": "code",
   "execution_count": 27,
   "id": "f35f6224",
   "metadata": {
    "id": "f35f6224",
    "scrolled": false
   },
   "outputs": [
    {
     "data": {
      "image/png": "[encoded data removed]",
      "text/plain": [
       "<Figure size 432x288 with 1 Axes>"
      ]
     },
     "metadata": {
      "needs_background": "light"
     },
     "output_type": "display_data"
    }
   ],
   "source": [
    "#Visualisasi IQR Method\n",
    "fig = plt.figure()  \n",
    "ax = sns.boxplot(data = df, x = 'Month')\n",
    "plt.show() "
   ]
  },
  {
   "cell_type": "markdown",
   "id": "e502fbfe",
   "metadata": {},
   "source": [
    "Berdasarkan boxplot masing-masing kolom numerik diatas, terdapat outliers pada kolom `Weekly_Sales`, `Temperature`, dan `Unemployment`. Dalam meng-handle outliers dengan meremove kolom yang mempunyai outliers tersebut."
   ]
  },
  {
   "cell_type": "markdown",
   "id": "7d985fc5",
   "metadata": {},
   "source": [
    "## E1. Handle Outliers"
   ]
  },
  {
   "cell_type": "code",
   "execution_count": 28,
   "id": "a483db5e",
   "metadata": {},
   "outputs": [
    {
     "data": {
      "text/plain": [
       "(6435, 12)"
      ]
     },
     "execution_count": 28,
     "metadata": {},
     "output_type": "execute_result"
    }
   ],
   "source": [
    "df.shape"
   ]
  },
  {
   "cell_type": "code",
   "execution_count": 29,
   "id": "963a45ca",
   "metadata": {},
   "outputs": [
    {
     "data": {
      "text/plain": [
       "(6401, 12)"
      ]
     },
     "execution_count": 29,
     "metadata": {},
     "output_type": "execute_result"
    }
   ],
   "source": [
    "#Removal Weekly_Sales\n",
    "Q1 = df['Weekly_Sales'].quantile(0.25)\n",
    "Q3 = df['Weekly_Sales'].quantile(0.75)\n",
    "IQR = Q3 - Q1\n",
    "\n",
    "df1 = df[df['Weekly_Sales'] >= Q1-1.5*(IQR)]\n",
    "\n",
    "df1 = df[df['Weekly_Sales'] <= Q3+1.5*(IQR)]\n",
    "df1.shape"
   ]
  },
  {
   "cell_type": "code",
   "execution_count": 30,
   "id": "d003b6b8",
   "metadata": {},
   "outputs": [
    {
     "name": "stderr",
     "output_type": "stream",
     "text": [
      "C:\\Users\\User\\anaconda3\\lib\\site-packages\\seaborn\\_decorators.py:36: FutureWarning: Pass the following variable as a keyword arg: x. From version 0.12, the only valid positional argument will be `data`, and passing other arguments without an explicit keyword will result in an error or misinterpretation.\n",
      "  warnings.warn(\n"
     ]
    },
    {
     "data": {
      "text/plain": [
       "<AxesSubplot:xlabel='Weekly_Sales'>"
      ]
     },
     "execution_count": 30,
     "metadata": {},
     "output_type": "execute_result"
    },
    {
     "data": {
      "image/png": "[encoded data removed]",
      "text/plain": [
       "<Figure size 432x288 with 1 Axes>"
      ]
     },
     "metadata": {
      "needs_background": "light"
     },
     "output_type": "display_data"
    }
   ],
   "source": [
    "#Ploting boxplot after removing outliers\n",
    "sns.boxplot(df1['Weekly_Sales'])"
   ]
  },
  {
   "cell_type": "code",
   "execution_count": 31,
   "id": "e94e1fcb",
   "metadata": {},
   "outputs": [
    {
     "data": {
      "text/plain": [
       "(6401, 12)"
      ]
     },
     "execution_count": 31,
     "metadata": {},
     "output_type": "execute_result"
    }
   ],
   "source": [
    "#Removal Temperature\n",
    "Q1 = df1['Temperature'].quantile(0.25)\n",
    "Q3 = df1['Temperature'].quantile(0.75)\n",
    "IQR = Q3 - Q1\n",
    "\n",
    "df2 = df1[df1['Temperature'] >= Q1-1.5*(IQR)]\n",
    "\n",
    "df2 = df1[df1['Temperature'] <= Q3+1.5*(IQR)]\n",
    "df2.shape"
   ]
  },
  {
   "cell_type": "code",
   "execution_count": 32,
   "id": "bbda1ad7",
   "metadata": {},
   "outputs": [
    {
     "name": "stderr",
     "output_type": "stream",
     "text": [
      "C:\\Users\\User\\anaconda3\\lib\\site-packages\\seaborn\\_decorators.py:36: FutureWarning: Pass the following variable as a keyword arg: x. From version 0.12, the only valid positional argument will be `data`, and passing other arguments without an explicit keyword will result in an error or misinterpretation.\n",
      "  warnings.warn(\n"
     ]
    },
    {
     "data": {
      "text/plain": [
       "<AxesSubplot:xlabel='Temperature'>"
      ]
     },
     "execution_count": 32,
     "metadata": {},
     "output_type": "execute_result"
    },
    {
     "data": {
      "image/png": "[encoded data removed]",
      "text/plain": [
       "<Figure size 432x288 with 1 Axes>"
      ]
     },
     "metadata": {
      "needs_background": "light"
     },
     "output_type": "display_data"
    }
   ],
   "source": [
    "#Ploting boxplot after removing outliers\n",
    "sns.boxplot(df2['Temperature'])"
   ]
  },
  {
   "cell_type": "code",
   "execution_count": 33,
   "id": "5c18d37a",
   "metadata": {},
   "outputs": [
    {
     "data": {
      "text/plain": [
       "(6023, 12)"
      ]
     },
     "execution_count": 33,
     "metadata": {},
     "output_type": "execute_result"
    }
   ],
   "source": [
    "#Removal Unemployment\n",
    "Q1 = df2['Unemployment'].quantile(0.25)\n",
    "Q3 = df2['Unemployment'].quantile(0.75)\n",
    "IQR = Q3 - Q1\n",
    "\n",
    "df3 = df2[df2['Unemployment'] >= Q1-1.5*(IQR)]\n",
    "\n",
    "df3 = df2[df2['Unemployment'] <= Q3+1.5*(IQR)]\n",
    "df3.shape"
   ]
  },
  {
   "cell_type": "code",
   "execution_count": 34,
   "id": "178814d3",
   "metadata": {
    "scrolled": true
   },
   "outputs": [
    {
     "name": "stderr",
     "output_type": "stream",
     "text": [
      "C:\\Users\\User\\anaconda3\\lib\\site-packages\\seaborn\\_decorators.py:36: FutureWarning: Pass the following variable as a keyword arg: x. From version 0.12, the only valid positional argument will be `data`, and passing other arguments without an explicit keyword will result in an error or misinterpretation.\n",
      "  warnings.warn(\n"
     ]
    },
    {
     "data": {
      "text/plain": [
       "<AxesSubplot:xlabel='Unemployment'>"
      ]
     },
     "execution_count": 34,
     "metadata": {},
     "output_type": "execute_result"
    },
    {
     "data": {
      "image/png": "[encoded data removed]",
      "text/plain": [
       "<Figure size 432x288 with 1 Axes>"
      ]
     },
     "metadata": {
      "needs_background": "light"
     },
     "output_type": "display_data"
    }
   ],
   "source": [
    "#Ploting boxplot after removing outliers\n",
    "sns.boxplot(df3['Unemployment'])"
   ]
  },
  {
   "cell_type": "markdown",
   "id": "b8a87e2e",
   "metadata": {},
   "source": [
    "Setelah dilakukan removal kolom yang mempunyai outliers didapatkan dimensi data baru Walmart yang terdiri dari 6023 baris dan 12 kolom."
   ]
  },
  {
   "cell_type": "code",
   "execution_count": 35,
   "id": "50911aad",
   "metadata": {},
   "outputs": [],
   "source": [
    "df3.to_excel('Dataset_up.xlsx')"
   ]
  },
  {
   "cell_type": "code",
   "execution_count": 36,
   "id": "8c88a47c",
   "metadata": {},
   "outputs": [
    {
     "data": {
      "text/html": [
       "<div>\n",
       "<style scoped>\n",
       "    .dataframe tbody tr th:only-of-type {\n",
       "        vertical-align: middle;\n",
       "    }\n",
       "\n",
       "    .dataframe tbody tr th {\n",
       "        vertical-align: top;\n",
       "    }\n",
       "\n",
       "    .dataframe thead th {\n",
       "        text-align: right;\n",
       "    }\n",
       "</style>\n",
       "<table border=\"1\" class=\"dataframe\">\n",
       "  <thead>\n",
       "    <tr style=\"text-align: right;\">\n",
       "      <th></th>\n",
       "      <th>Store</th>\n",
       "      <th>Date</th>\n",
       "      <th>Weekly_Sales</th>\n",
       "      <th>Holiday_Flag</th>\n",
       "      <th>Temperature</th>\n",
       "      <th>Fuel_Price</th>\n",
       "      <th>CPI</th>\n",
       "      <th>Unemployment</th>\n",
       "      <th>Month</th>\n",
       "      <th>Year</th>\n",
       "      <th>Day_Number</th>\n",
       "      <th>Day</th>\n",
       "    </tr>\n",
       "  </thead>\n",
       "  <tbody>\n",
       "    <tr>\n",
       "      <th>0</th>\n",
       "      <td>1</td>\n",
       "      <td>2010-05-02</td>\n",
       "      <td>1643690.90</td>\n",
       "      <td>0</td>\n",
       "      <td>42.31</td>\n",
       "      <td>2.572</td>\n",
       "      <td>211.096358</td>\n",
       "      <td>8.106</td>\n",
       "      <td>5</td>\n",
       "      <td>2010</td>\n",
       "      <td>6</td>\n",
       "      <td>Sabtu</td>\n",
       "    </tr>\n",
       "    <tr>\n",
       "      <th>1</th>\n",
       "      <td>1</td>\n",
       "      <td>2010-12-02</td>\n",
       "      <td>1641957.44</td>\n",
       "      <td>1</td>\n",
       "      <td>38.51</td>\n",
       "      <td>2.548</td>\n",
       "      <td>211.242170</td>\n",
       "      <td>8.106</td>\n",
       "      <td>12</td>\n",
       "      <td>2010</td>\n",
       "      <td>3</td>\n",
       "      <td>Rabu</td>\n",
       "    </tr>\n",
       "    <tr>\n",
       "      <th>2</th>\n",
       "      <td>1</td>\n",
       "      <td>2010-02-19</td>\n",
       "      <td>1611968.17</td>\n",
       "      <td>0</td>\n",
       "      <td>39.93</td>\n",
       "      <td>2.514</td>\n",
       "      <td>211.289143</td>\n",
       "      <td>8.106</td>\n",
       "      <td>2</td>\n",
       "      <td>2010</td>\n",
       "      <td>4</td>\n",
       "      <td>Kamis</td>\n",
       "    </tr>\n",
       "    <tr>\n",
       "      <th>3</th>\n",
       "      <td>1</td>\n",
       "      <td>2010-02-26</td>\n",
       "      <td>1409727.59</td>\n",
       "      <td>0</td>\n",
       "      <td>46.63</td>\n",
       "      <td>2.561</td>\n",
       "      <td>211.319643</td>\n",
       "      <td>8.106</td>\n",
       "      <td>2</td>\n",
       "      <td>2010</td>\n",
       "      <td>4</td>\n",
       "      <td>Kamis</td>\n",
       "    </tr>\n",
       "    <tr>\n",
       "      <th>4</th>\n",
       "      <td>1</td>\n",
       "      <td>2010-05-03</td>\n",
       "      <td>1554806.68</td>\n",
       "      <td>0</td>\n",
       "      <td>46.50</td>\n",
       "      <td>2.625</td>\n",
       "      <td>211.350143</td>\n",
       "      <td>8.106</td>\n",
       "      <td>5</td>\n",
       "      <td>2010</td>\n",
       "      <td>0</td>\n",
       "      <td>Minggu</td>\n",
       "    </tr>\n",
       "    <tr>\n",
       "      <th>...</th>\n",
       "      <td>...</td>\n",
       "      <td>...</td>\n",
       "      <td>...</td>\n",
       "      <td>...</td>\n",
       "      <td>...</td>\n",
       "      <td>...</td>\n",
       "      <td>...</td>\n",
       "      <td>...</td>\n",
       "      <td>...</td>\n",
       "      <td>...</td>\n",
       "      <td>...</td>\n",
       "      <td>...</td>\n",
       "    </tr>\n",
       "    <tr>\n",
       "      <th>6430</th>\n",
       "      <td>45</td>\n",
       "      <td>2012-09-28</td>\n",
       "      <td>713173.95</td>\n",
       "      <td>0</td>\n",
       "      <td>64.88</td>\n",
       "      <td>3.997</td>\n",
       "      <td>192.013558</td>\n",
       "      <td>8.684</td>\n",
       "      <td>9</td>\n",
       "      <td>2012</td>\n",
       "      <td>4</td>\n",
       "      <td>Kamis</td>\n",
       "    </tr>\n",
       "    <tr>\n",
       "      <th>6431</th>\n",
       "      <td>45</td>\n",
       "      <td>2012-05-10</td>\n",
       "      <td>733455.07</td>\n",
       "      <td>0</td>\n",
       "      <td>64.89</td>\n",
       "      <td>3.985</td>\n",
       "      <td>192.170412</td>\n",
       "      <td>8.667</td>\n",
       "      <td>5</td>\n",
       "      <td>2012</td>\n",
       "      <td>3</td>\n",
       "      <td>Rabu</td>\n",
       "    </tr>\n",
       "    <tr>\n",
       "      <th>6432</th>\n",
       "      <td>45</td>\n",
       "      <td>2012-12-10</td>\n",
       "      <td>734464.36</td>\n",
       "      <td>0</td>\n",
       "      <td>54.47</td>\n",
       "      <td>4.000</td>\n",
       "      <td>192.327265</td>\n",
       "      <td>8.667</td>\n",
       "      <td>12</td>\n",
       "      <td>2012</td>\n",
       "      <td>0</td>\n",
       "      <td>Minggu</td>\n",
       "    </tr>\n",
       "    <tr>\n",
       "      <th>6433</th>\n",
       "      <td>45</td>\n",
       "      <td>2012-10-19</td>\n",
       "      <td>718125.53</td>\n",
       "      <td>0</td>\n",
       "      <td>56.47</td>\n",
       "      <td>3.969</td>\n",
       "      <td>192.330854</td>\n",
       "      <td>8.667</td>\n",
       "      <td>10</td>\n",
       "      <td>2012</td>\n",
       "      <td>4</td>\n",
       "      <td>Kamis</td>\n",
       "    </tr>\n",
       "    <tr>\n",
       "      <th>6434</th>\n",
       "      <td>45</td>\n",
       "      <td>2012-10-26</td>\n",
       "      <td>760281.43</td>\n",
       "      <td>0</td>\n",
       "      <td>58.85</td>\n",
       "      <td>3.882</td>\n",
       "      <td>192.308899</td>\n",
       "      <td>8.667</td>\n",
       "      <td>10</td>\n",
       "      <td>2012</td>\n",
       "      <td>4</td>\n",
       "      <td>Kamis</td>\n",
       "    </tr>\n",
       "  </tbody>\n",
       "</table>\n",
       "<p>6023 rows × 12 columns</p>\n",
       "</div>"
      ],
      "text/plain": [
       "      Store       Date  Weekly_Sales  Holiday_Flag  Temperature  Fuel_Price  \\\n",
       "0         1 2010-05-02    1643690.90             0        42.31       2.572   \n",
       "1         1 2010-12-02    1641957.44             1        38.51       2.548   \n",
       "2         1 2010-02-19    1611968.17             0        39.93       2.514   \n",
       "3         1 2010-02-26    1409727.59             0        46.63       2.561   \n",
       "4         1 2010-05-03    1554806.68             0        46.50       2.625   \n",
       "...     ...        ...           ...           ...          ...         ...   \n",
       "6430     45 2012-09-28     713173.95             0        64.88       3.997   \n",
       "6431     45 2012-05-10     733455.07             0        64.89       3.985   \n",
       "6432     45 2012-12-10     734464.36             0        54.47       4.000   \n",
       "6433     45 2012-10-19     718125.53             0        56.47       3.969   \n",
       "6434     45 2012-10-26     760281.43             0        58.85       3.882   \n",
       "\n",
       "             CPI  Unemployment  Month  Year  Day_Number     Day  \n",
       "0     211.096358         8.106      5  2010           6   Sabtu  \n",
       "1     211.242170         8.106     12  2010           3    Rabu  \n",
       "2     211.289143         8.106      2  2010           4   Kamis  \n",
       "3     211.319643         8.106      2  2010           4   Kamis  \n",
       "4     211.350143         8.106      5  2010           0  Minggu  \n",
       "...          ...           ...    ...   ...         ...     ...  \n",
       "6430  192.013558         8.684      9  2012           4   Kamis  \n",
       "6431  192.170412         8.667      5  2012           3    Rabu  \n",
       "6432  192.327265         8.667     12  2012           0  Minggu  \n",
       "6433  192.330854         8.667     10  2012           4   Kamis  \n",
       "6434  192.308899         8.667     10  2012           4   Kamis  \n",
       "\n",
       "[6023 rows x 12 columns]"
      ]
     },
     "execution_count": 36,
     "metadata": {},
     "output_type": "execute_result"
    }
   ],
   "source": [
    "df3"
   ]
  },
  {
   "cell_type": "code",
   "execution_count": null,
   "id": "e0a76f8f",
   "metadata": {},
   "outputs": [],
   "source": []
  }
 ],
 "metadata": {
  "colab": {
   "name": "FinalProject(EDA)_Walmart(Rev).ipynb",
   "provenance": []
  },
  "kernelspec": {
   "display_name": "Python 3 (ipykernel)",
   "language": "python",
   "name": "python3"
  },
  "language_info": {
   "codemirror_mode": {
    "name": "ipython",
    "version": 3
   },
   "file_extension": ".py",
   "mimetype": "text/x-python",
   "name": "python",
   "nbconvert_exporter": "python",
   "pygments_lexer": "ipython3",
   "version": "3.9.7"
  }
 },
 "nbformat": 4,
 "nbformat_minor": 5
}
